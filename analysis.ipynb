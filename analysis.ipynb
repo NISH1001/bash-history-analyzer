{
 "cells": [
  {
   "cell_type": "code",
   "execution_count": 58,
   "metadata": {},
   "outputs": [],
   "source": [
    "import pandas as pd\n",
    "import numpy as np\n",
    "import matplotlib.pyplot as plt\n",
    "import seaborn as sns\n",
    "\n",
    "%matplotlib inline"
   ]
  },
  {
   "cell_type": "code",
   "execution_count": 59,
   "metadata": {},
   "outputs": [],
   "source": [
    "# for now load the vanilla history file\n",
    "fname = \"/home/paradox/.bash_history\""
   ]
  },
  {
   "cell_type": "code",
   "execution_count": 60,
   "metadata": {},
   "outputs": [],
   "source": [
    "data = []"
   ]
  },
  {
   "cell_type": "code",
   "execution_count": 61,
   "metadata": {},
   "outputs": [],
   "source": [
    "with open(fname) as f:\n",
    "    for line in f:\n",
    "        data.append(line.strip())"
   ]
  },
  {
   "cell_type": "code",
   "execution_count": 62,
   "metadata": {},
   "outputs": [],
   "source": [
    "df = pd.DataFrame(data, columns=['command_text'])"
   ]
  },
  {
   "cell_type": "code",
   "execution_count": 63,
   "metadata": {},
   "outputs": [
    {
     "data": {
      "text/html": [
       "<div>\n",
       "<style scoped>\n",
       "    .dataframe tbody tr th:only-of-type {\n",
       "        vertical-align: middle;\n",
       "    }\n",
       "\n",
       "    .dataframe tbody tr th {\n",
       "        vertical-align: top;\n",
       "    }\n",
       "\n",
       "    .dataframe thead th {\n",
       "        text-align: right;\n",
       "    }\n",
       "</style>\n",
       "<table border=\"1\" class=\"dataframe\">\n",
       "  <thead>\n",
       "    <tr style=\"text-align: right;\">\n",
       "      <th></th>\n",
       "      <th>command_text</th>\n",
       "    </tr>\n",
       "  </thead>\n",
       "  <tbody>\n",
       "    <tr>\n",
       "      <th>0</th>\n",
       "      <td>which pip</td>\n",
       "    </tr>\n",
       "    <tr>\n",
       "      <th>1</th>\n",
       "      <td>conda install pip</td>\n",
       "    </tr>\n",
       "    <tr>\n",
       "      <th>2</th>\n",
       "      <td>which pip</td>\n",
       "    </tr>\n",
       "    <tr>\n",
       "      <th>3</th>\n",
       "      <td>python</td>\n",
       "    </tr>\n",
       "    <tr>\n",
       "      <th>4</th>\n",
       "      <td>pip install numpy</td>\n",
       "    </tr>\n",
       "  </tbody>\n",
       "</table>\n",
       "</div>"
      ],
      "text/plain": [
       "        command_text\n",
       "0          which pip\n",
       "1  conda install pip\n",
       "2          which pip\n",
       "3             python\n",
       "4  pip install numpy"
      ]
     },
     "execution_count": 63,
     "metadata": {},
     "output_type": "execute_result"
    }
   ],
   "source": [
    "df.head()"
   ]
  },
  {
   "cell_type": "code",
   "execution_count": 64,
   "metadata": {},
   "outputs": [
    {
     "data": {
      "text/plain": [
       "(2002, 1)"
      ]
     },
     "execution_count": 64,
     "metadata": {},
     "output_type": "execute_result"
    }
   ],
   "source": [
    "df.shape"
   ]
  },
  {
   "cell_type": "code",
   "execution_count": 65,
   "metadata": {},
   "outputs": [
    {
     "name": "stdout",
     "output_type": "stream",
     "text": [
      "<class 'pandas.core.frame.DataFrame'>\n",
      "RangeIndex: 2002 entries, 0 to 2001\n",
      "Data columns (total 1 columns):\n",
      "command_text    2002 non-null object\n",
      "dtypes: object(1)\n",
      "memory usage: 15.7+ KB\n"
     ]
    }
   ],
   "source": [
    "df.info()"
   ]
  },
  {
   "cell_type": "code",
   "execution_count": 66,
   "metadata": {},
   "outputs": [
    {
     "data": {
      "text/html": [
       "<div>\n",
       "<style scoped>\n",
       "    .dataframe tbody tr th:only-of-type {\n",
       "        vertical-align: middle;\n",
       "    }\n",
       "\n",
       "    .dataframe tbody tr th {\n",
       "        vertical-align: top;\n",
       "    }\n",
       "\n",
       "    .dataframe thead th {\n",
       "        text-align: right;\n",
       "    }\n",
       "</style>\n",
       "<table border=\"1\" class=\"dataframe\">\n",
       "  <thead>\n",
       "    <tr style=\"text-align: right;\">\n",
       "      <th></th>\n",
       "      <th>command_text</th>\n",
       "    </tr>\n",
       "  </thead>\n",
       "  <tbody>\n",
       "    <tr>\n",
       "      <th>count</th>\n",
       "      <td>2002</td>\n",
       "    </tr>\n",
       "    <tr>\n",
       "      <th>unique</th>\n",
       "      <td>654</td>\n",
       "    </tr>\n",
       "    <tr>\n",
       "      <th>top</th>\n",
       "      <td>ls</td>\n",
       "    </tr>\n",
       "    <tr>\n",
       "      <th>freq</th>\n",
       "      <td>353</td>\n",
       "    </tr>\n",
       "  </tbody>\n",
       "</table>\n",
       "</div>"
      ],
      "text/plain": [
       "       command_text\n",
       "count          2002\n",
       "unique          654\n",
       "top              ls\n",
       "freq            353"
      ]
     },
     "execution_count": 66,
     "metadata": {},
     "output_type": "execute_result"
    }
   ],
   "source": [
    "df.describe()"
   ]
  },
  {
   "cell_type": "code",
   "execution_count": 67,
   "metadata": {},
   "outputs": [],
   "source": [
    "def extract_command(text):\n",
    "    tokens = text.split()\n",
    "    return '' if not tokens else tokens[0]"
   ]
  },
  {
   "cell_type": "code",
   "execution_count": 68,
   "metadata": {},
   "outputs": [],
   "source": [
    "df['command'] = df['command_text'].apply(extract_command)"
   ]
  },
  {
   "cell_type": "code",
   "execution_count": 69,
   "metadata": {
    "scrolled": true
   },
   "outputs": [
    {
     "data": {
      "text/html": [
       "<div>\n",
       "<style scoped>\n",
       "    .dataframe tbody tr th:only-of-type {\n",
       "        vertical-align: middle;\n",
       "    }\n",
       "\n",
       "    .dataframe tbody tr th {\n",
       "        vertical-align: top;\n",
       "    }\n",
       "\n",
       "    .dataframe thead th {\n",
       "        text-align: right;\n",
       "    }\n",
       "</style>\n",
       "<table border=\"1\" class=\"dataframe\">\n",
       "  <thead>\n",
       "    <tr style=\"text-align: right;\">\n",
       "      <th></th>\n",
       "      <th>command_text</th>\n",
       "      <th>command</th>\n",
       "    </tr>\n",
       "  </thead>\n",
       "  <tbody>\n",
       "    <tr>\n",
       "      <th>0</th>\n",
       "      <td>which pip</td>\n",
       "      <td>which</td>\n",
       "    </tr>\n",
       "    <tr>\n",
       "      <th>1</th>\n",
       "      <td>conda install pip</td>\n",
       "      <td>conda</td>\n",
       "    </tr>\n",
       "    <tr>\n",
       "      <th>2</th>\n",
       "      <td>which pip</td>\n",
       "      <td>which</td>\n",
       "    </tr>\n",
       "    <tr>\n",
       "      <th>3</th>\n",
       "      <td>python</td>\n",
       "      <td>python</td>\n",
       "    </tr>\n",
       "    <tr>\n",
       "      <th>4</th>\n",
       "      <td>pip install numpy</td>\n",
       "      <td>pip</td>\n",
       "    </tr>\n",
       "    <tr>\n",
       "      <th>5</th>\n",
       "      <td>pip install pip --upgrade</td>\n",
       "      <td>pip</td>\n",
       "    </tr>\n",
       "    <tr>\n",
       "      <th>6</th>\n",
       "      <td>pip install jupyter</td>\n",
       "      <td>pip</td>\n",
       "    </tr>\n",
       "    <tr>\n",
       "      <th>7</th>\n",
       "      <td>python</td>\n",
       "      <td>python</td>\n",
       "    </tr>\n",
       "    <tr>\n",
       "      <th>8</th>\n",
       "      <td>pip install pandas matplotlib scikit-learn</td>\n",
       "      <td>pip</td>\n",
       "    </tr>\n",
       "    <tr>\n",
       "      <th>9</th>\n",
       "      <td>python</td>\n",
       "      <td>python</td>\n",
       "    </tr>\n",
       "    <tr>\n",
       "      <th>10</th>\n",
       "      <td>cd mp</td>\n",
       "      <td>cd</td>\n",
       "    </tr>\n",
       "    <tr>\n",
       "      <th>11</th>\n",
       "      <td>ls</td>\n",
       "      <td>ls</td>\n",
       "    </tr>\n",
       "    <tr>\n",
       "      <th>12</th>\n",
       "      <td>mkdir week-2</td>\n",
       "      <td>mkdir</td>\n",
       "    </tr>\n",
       "    <tr>\n",
       "      <th>13</th>\n",
       "      <td>cd .fonts/</td>\n",
       "      <td>cd</td>\n",
       "    </tr>\n",
       "    <tr>\n",
       "      <th>14</th>\n",
       "      <td>ls</td>\n",
       "      <td>ls</td>\n",
       "    </tr>\n",
       "    <tr>\n",
       "      <th>15</th>\n",
       "      <td>grep font /etc/i3/config</td>\n",
       "      <td>grep</td>\n",
       "    </tr>\n",
       "    <tr>\n",
       "      <th>16</th>\n",
       "      <td>cd .config/i3</td>\n",
       "      <td>cd</td>\n",
       "    </tr>\n",
       "    <tr>\n",
       "      <th>17</th>\n",
       "      <td>nvim config</td>\n",
       "      <td>nvim</td>\n",
       "    </tr>\n",
       "    <tr>\n",
       "      <th>18</th>\n",
       "      <td>firefox  -P</td>\n",
       "      <td>firefox</td>\n",
       "    </tr>\n",
       "    <tr>\n",
       "      <th>19</th>\n",
       "      <td>ls</td>\n",
       "      <td>ls</td>\n",
       "    </tr>\n",
       "    <tr>\n",
       "      <th>20</th>\n",
       "      <td>cd paradox-configs/</td>\n",
       "      <td>cd</td>\n",
       "    </tr>\n",
       "    <tr>\n",
       "      <th>21</th>\n",
       "      <td>ls</td>\n",
       "      <td>ls</td>\n",
       "    </tr>\n",
       "    <tr>\n",
       "      <th>22</th>\n",
       "      <td>cd</td>\n",
       "      <td>cd</td>\n",
       "    </tr>\n",
       "    <tr>\n",
       "      <th>23</th>\n",
       "      <td>ls</td>\n",
       "      <td>ls</td>\n",
       "    </tr>\n",
       "    <tr>\n",
       "      <th>24</th>\n",
       "      <td>cd Nish/Programming/bin/</td>\n",
       "      <td>cd</td>\n",
       "    </tr>\n",
       "    <tr>\n",
       "      <th>25</th>\n",
       "      <td>ls</td>\n",
       "      <td>ls</td>\n",
       "    </tr>\n",
       "    <tr>\n",
       "      <th>26</th>\n",
       "      <td>nvim  mpercept-technology.sh</td>\n",
       "      <td>nvim</td>\n",
       "    </tr>\n",
       "    <tr>\n",
       "      <th>27</th>\n",
       "      <td>whereis firefox</td>\n",
       "      <td>whereis</td>\n",
       "    </tr>\n",
       "    <tr>\n",
       "      <th>28</th>\n",
       "      <td>which firefox</td>\n",
       "      <td>which</td>\n",
       "    </tr>\n",
       "    <tr>\n",
       "      <th>29</th>\n",
       "      <td>sudo cp mpercept-technology.sh /usr/bin/</td>\n",
       "      <td>sudo</td>\n",
       "    </tr>\n",
       "    <tr>\n",
       "      <th>...</th>\n",
       "      <td>...</td>\n",
       "      <td>...</td>\n",
       "    </tr>\n",
       "    <tr>\n",
       "      <th>1972</th>\n",
       "      <td>guvcview</td>\n",
       "      <td>guvcview</td>\n",
       "    </tr>\n",
       "    <tr>\n",
       "      <th>1973</th>\n",
       "      <td>lsusb</td>\n",
       "      <td>lsusb</td>\n",
       "    </tr>\n",
       "    <tr>\n",
       "      <th>1974</th>\n",
       "      <td>startx</td>\n",
       "      <td>startx</td>\n",
       "    </tr>\n",
       "    <tr>\n",
       "      <th>1975</th>\n",
       "      <td>rip</td>\n",
       "      <td>rip</td>\n",
       "    </tr>\n",
       "    <tr>\n",
       "      <th>1976</th>\n",
       "      <td>xset b off</td>\n",
       "      <td>xset</td>\n",
       "    </tr>\n",
       "    <tr>\n",
       "      <th>1977</th>\n",
       "      <td>man logger</td>\n",
       "      <td>man</td>\n",
       "    </tr>\n",
       "    <tr>\n",
       "      <th>1978</th>\n",
       "      <td>nvim .bash_history</td>\n",
       "      <td>nvim</td>\n",
       "    </tr>\n",
       "    <tr>\n",
       "      <th>1979</th>\n",
       "      <td>echo HISTSIZE</td>\n",
       "      <td>echo</td>\n",
       "    </tr>\n",
       "    <tr>\n",
       "      <th>1980</th>\n",
       "      <td>echo $HISTSIZE</td>\n",
       "      <td>echo</td>\n",
       "    </tr>\n",
       "    <tr>\n",
       "      <th>1981</th>\n",
       "      <td>echo $HISTFILESIZE</td>\n",
       "      <td>echo</td>\n",
       "    </tr>\n",
       "    <tr>\n",
       "      <th>1982</th>\n",
       "      <td>history -a</td>\n",
       "      <td>history</td>\n",
       "    </tr>\n",
       "    <tr>\n",
       "      <th>1983</th>\n",
       "      <td>history</td>\n",
       "      <td>history</td>\n",
       "    </tr>\n",
       "    <tr>\n",
       "      <th>1984</th>\n",
       "      <td>history -a</td>\n",
       "      <td>history</td>\n",
       "    </tr>\n",
       "    <tr>\n",
       "      <th>1985</th>\n",
       "      <td>nvim .bashrc</td>\n",
       "      <td>nvim</td>\n",
       "    </tr>\n",
       "    <tr>\n",
       "      <th>1986</th>\n",
       "      <td>history</td>\n",
       "      <td>history</td>\n",
       "    </tr>\n",
       "    <tr>\n",
       "      <th>1987</th>\n",
       "      <td>nvim .bash_history</td>\n",
       "      <td>nvim</td>\n",
       "    </tr>\n",
       "    <tr>\n",
       "      <th>1988</th>\n",
       "      <td>ls</td>\n",
       "      <td>ls</td>\n",
       "    </tr>\n",
       "    <tr>\n",
       "      <th>1989</th>\n",
       "      <td>pwd</td>\n",
       "      <td>pwd</td>\n",
       "    </tr>\n",
       "    <tr>\n",
       "      <th>1990</th>\n",
       "      <td>nvim .bash_history</td>\n",
       "      <td>nvim</td>\n",
       "    </tr>\n",
       "    <tr>\n",
       "      <th>1991</th>\n",
       "      <td>ls</td>\n",
       "      <td>ls</td>\n",
       "    </tr>\n",
       "    <tr>\n",
       "      <th>1992</th>\n",
       "      <td>nvim .bash_history</td>\n",
       "      <td>nvim</td>\n",
       "    </tr>\n",
       "    <tr>\n",
       "      <th>1993</th>\n",
       "      <td>nvim .bash_history</td>\n",
       "      <td>nvim</td>\n",
       "    </tr>\n",
       "    <tr>\n",
       "      <th>1994</th>\n",
       "      <td>ls</td>\n",
       "      <td>ls</td>\n",
       "    </tr>\n",
       "    <tr>\n",
       "      <th>1995</th>\n",
       "      <td>nvim .bashrc</td>\n",
       "      <td>nvim</td>\n",
       "    </tr>\n",
       "    <tr>\n",
       "      <th>1996</th>\n",
       "      <td>. .bashrc</td>\n",
       "      <td>.</td>\n",
       "    </tr>\n",
       "    <tr>\n",
       "      <th>1997</th>\n",
       "      <td>nvim .bash_history</td>\n",
       "      <td>nvim</td>\n",
       "    </tr>\n",
       "    <tr>\n",
       "      <th>1998</th>\n",
       "      <td>acct</td>\n",
       "      <td>acct</td>\n",
       "    </tr>\n",
       "    <tr>\n",
       "      <th>1999</th>\n",
       "      <td>nvim .bash_history</td>\n",
       "      <td>nvim</td>\n",
       "    </tr>\n",
       "    <tr>\n",
       "      <th>2000</th>\n",
       "      <td>nvim .bash_history</td>\n",
       "      <td>nvim</td>\n",
       "    </tr>\n",
       "    <tr>\n",
       "      <th>2001</th>\n",
       "      <td>nvim .bash_history-01486.tmp</td>\n",
       "      <td>nvim</td>\n",
       "    </tr>\n",
       "  </tbody>\n",
       "</table>\n",
       "<p>2002 rows × 2 columns</p>\n",
       "</div>"
      ],
      "text/plain": [
       "                                    command_text   command\n",
       "0                                      which pip     which\n",
       "1                              conda install pip     conda\n",
       "2                                      which pip     which\n",
       "3                                         python    python\n",
       "4                              pip install numpy       pip\n",
       "5                      pip install pip --upgrade       pip\n",
       "6                            pip install jupyter       pip\n",
       "7                                         python    python\n",
       "8     pip install pandas matplotlib scikit-learn       pip\n",
       "9                                         python    python\n",
       "10                                         cd mp        cd\n",
       "11                                            ls        ls\n",
       "12                                  mkdir week-2     mkdir\n",
       "13                                    cd .fonts/        cd\n",
       "14                                            ls        ls\n",
       "15                      grep font /etc/i3/config      grep\n",
       "16                                 cd .config/i3        cd\n",
       "17                                   nvim config      nvim\n",
       "18                                   firefox  -P   firefox\n",
       "19                                            ls        ls\n",
       "20                           cd paradox-configs/        cd\n",
       "21                                            ls        ls\n",
       "22                                            cd        cd\n",
       "23                                            ls        ls\n",
       "24                      cd Nish/Programming/bin/        cd\n",
       "25                                            ls        ls\n",
       "26                  nvim  mpercept-technology.sh      nvim\n",
       "27                               whereis firefox   whereis\n",
       "28                                 which firefox     which\n",
       "29      sudo cp mpercept-technology.sh /usr/bin/      sudo\n",
       "...                                          ...       ...\n",
       "1972                                    guvcview  guvcview\n",
       "1973                                       lsusb     lsusb\n",
       "1974                                      startx    startx\n",
       "1975                                         rip       rip\n",
       "1976                                  xset b off      xset\n",
       "1977                                  man logger       man\n",
       "1978                          nvim .bash_history      nvim\n",
       "1979                               echo HISTSIZE      echo\n",
       "1980                              echo $HISTSIZE      echo\n",
       "1981                          echo $HISTFILESIZE      echo\n",
       "1982                                  history -a   history\n",
       "1983                                     history   history\n",
       "1984                                  history -a   history\n",
       "1985                                nvim .bashrc      nvim\n",
       "1986                                     history   history\n",
       "1987                          nvim .bash_history      nvim\n",
       "1988                                          ls        ls\n",
       "1989                                         pwd       pwd\n",
       "1990                          nvim .bash_history      nvim\n",
       "1991                                          ls        ls\n",
       "1992                          nvim .bash_history      nvim\n",
       "1993                          nvim .bash_history      nvim\n",
       "1994                                          ls        ls\n",
       "1995                                nvim .bashrc      nvim\n",
       "1996                                   . .bashrc         .\n",
       "1997                          nvim .bash_history      nvim\n",
       "1998                                        acct      acct\n",
       "1999                          nvim .bash_history      nvim\n",
       "2000                          nvim .bash_history      nvim\n",
       "2001                nvim .bash_history-01486.tmp      nvim\n",
       "\n",
       "[2002 rows x 2 columns]"
      ]
     },
     "execution_count": 69,
     "metadata": {},
     "output_type": "execute_result"
    }
   ],
   "source": [
    "df"
   ]
  },
  {
   "cell_type": "markdown",
   "metadata": {},
   "source": [
    "## histogram plot"
   ]
  },
  {
   "cell_type": "code",
   "execution_count": 70,
   "metadata": {},
   "outputs": [
    {
     "name": "stdout",
     "output_type": "stream",
     "text": [
      "(133,)\n",
      "['which' 'conda' 'python' 'pip' 'cd' 'ls' 'mkdir' 'grep' 'nvim' 'firefox'\n",
      " 'whereis' 'sudo' 'acpi' 'temperature.sh' 'sensorrs' 'sensors' 'alsamixer'\n",
      " 'cat/proc/asound/cards' 'cat' 'asoundconf' 'startx' 'reboot' 'alsactl'\n",
      " 'speaker-test' 'adduser' '/usr/sbin/adduser' 'useradd' 'ifconfig'\n",
      " 'gnome-terminal' 'df' 'yay' 'xterm' 'urxvt' 'urxvt-tabbed' 'rip' 'pwd'\n",
      " 'compton' 'pacman' 'uname' 'inxi' 'fakeroot' '\\x01' 'fwupdmgr' 'flashrom'\n",
      " 'htop' 'glxinfo' 'source' 'd' 'jupyter' 'xset' 'unzip' 'pkill' 'playx'\n",
      " 'mpv' 't' 'git' 'catless' 'vim' '/etc/hos' 'lsls' 'sls' 'apython' 'chmod'\n",
      " './manage.py' '/usr/bin/env' 'glxgears' 'mperceppt' 'up' 'find'\n",
      " 'youtube-dl' 'fg' 'lyrics.py' 'nviim' 'mv' 'fdisk'\n",
      " 'android-file-transfer' 'cp' 'scrot' 'gpicview' 'thunar' 'gedit' 'लस'\n",
      " 'fgk' 'LS' 'make' './darknet' '' './make' './darknet/' 'rm' 'md5'\n",
      " 'md5sum' 'libopencv-dev' 'redshift-gtk' 'p' 'systemctl'\n",
      " '/usr/bin/redshift-gtk' 'screen-eat' './screen-eat' 'ffmpeg' 'locate'\n",
      " 'python2' 'mportError:' '.nstall' 'wget' 'nstall' 'install' 'tar'\n",
      " './Postman' './gunicorn.sh' 'guvcview' 'lsusb' 'lscpu' './flow' 'flow'\n",
      " 'import' 'def' 'nvimls' 'nepaliconv' 'setxkbmap' 'localectl' 'nvi'\n",
      " 'नेपालि' 'nepali' 'l' 'pcsc_scan' 'arecord' 'aplay' 'man' 'echo'\n",
      " 'history' '.' 'acct']\n"
     ]
    }
   ],
   "source": [
    "# get unique commands\n",
    "unique = df['command'].unique()\n",
    "print(unique.shape)\n",
    "print(unique)"
   ]
  },
  {
   "cell_type": "code",
   "execution_count": 71,
   "metadata": {
    "scrolled": false
   },
   "outputs": [
    {
     "data": {
      "text/plain": [
       "ls                       357\n",
       "cd                       259\n",
       "python                   250\n",
       "fg                       182\n",
       "sudo                     111\n",
       "nvim                      94\n",
       "pip                       74\n",
       "./darknet                 66\n",
       "git                       55\n",
       "playx                     43\n",
       "source                    37\n",
       "startx                    34\n",
       "which                     33\n",
       "rip                       31\n",
       "make                      23\n",
       "xset                      22\n",
       "conda                     18\n",
       "pwd                       17\n",
       "wget                      11\n",
       "mkdir                     11\n",
       "redshift-gtk              10\n",
       "catless                    9\n",
       "jupyter                    9\n",
       "up                         9\n",
       "rm                         8\n",
       "unzip                      7\n",
       "cat                        7\n",
       "scrot                      6\n",
       "mv                         6\n",
       "lsusb                      6\n",
       "                        ... \n",
       "LS                         1\n",
       "df                         1\n",
       "firefox                    1\n",
       "./make                     1\n",
       "नेपालि                     1\n",
       "fgk                        1\n",
       "useradd                    1\n",
       "pcsc_scan                  1\n",
       "fdisk                      1\n",
       ".nstall                    1\n",
       "md5                        1\n",
       "locate                     1\n",
       "nvi                        1\n",
       "t                          1\n",
       "sensorrs                   1\n",
       "cat/proc/asound/cards      1\n",
       "libopencv-dev              1\n",
       "temperature.sh             1\n",
       "install                    1\n",
       "/etc/hos                   1\n",
       "ffmpeg                     1\n",
       "/usr/bin/redshift-gtk      1\n",
       "p                          1\n",
       "लस                         1\n",
       "sls                        1\n",
       "nstall                     1\n",
       "android-file-transfer      1\n",
       "apython                    1\n",
       "urxvt-tabbed               1\n",
       "fwupdmgr                   1\n",
       "Name: command, Length: 133, dtype: int64"
      ]
     },
     "execution_count": 71,
     "metadata": {},
     "output_type": "execute_result"
    }
   ],
   "source": [
    "# count each command\n",
    "df['command'].value_counts()"
   ]
  },
  {
   "cell_type": "code",
   "execution_count": 72,
   "metadata": {},
   "outputs": [
    {
     "data": {
      "text/plain": [
       "<matplotlib.axes._subplots.AxesSubplot at 0x7fb0a28741d0>"
      ]
     },
     "execution_count": 72,
     "metadata": {},
     "output_type": "execute_result"
    },
    {
     "data": {
      "image/png": "[encoded data removed]",
      "text/plain": [
       "<Figure size 432x288 with 1 Axes>"
      ]
     },
     "metadata": {
      "needs_background": "light"
     },
     "output_type": "display_data"
    }
   ],
   "source": [
    "# get histogram plot\n",
    "df['command'].value_counts().plot(kind='bar')"
   ]
  },
  {
   "cell_type": "code",
   "execution_count": 74,
   "metadata": {},
   "outputs": [],
   "source": [
    "figsize = plt.rcParams['figure.figsize']\n",
    "plt.rcParams['figure.figsize'] = [15, 10]"
   ]
  },
  {
   "cell_type": "code",
   "execution_count": 75,
   "metadata": {},
   "outputs": [
    {
     "data": {
      "text/plain": [
       "<matplotlib.axes._subplots.AxesSubplot at 0x7fb0a0b684a8>"
      ]
     },
     "execution_count": 75,
     "metadata": {},
     "output_type": "execute_result"
    },
    {
     "data": {
      "image/png": "[encoded data removed]",
      "text/plain": [
       "<Figure size 1080x720 with 1 Axes>"
      ]
     },
     "metadata": {
      "needs_background": "light"
     },
     "output_type": "display_data"
    }
   ],
   "source": [
    "# histogram plot -> bigger size\n",
    "df['command'].value_counts().plot(kind='bar')"
   ]
  },
  {
   "cell_type": "markdown",
   "metadata": {},
   "source": [
    "### top N mostly used commands"
   ]
  },
  {
   "cell_type": "code",
   "execution_count": 79,
   "metadata": {},
   "outputs": [
    {
     "data": {
      "text/plain": [
       "ls           357\n",
       "cd           259\n",
       "python       250\n",
       "fg           182\n",
       "sudo         111\n",
       "nvim          94\n",
       "pip           74\n",
       "./darknet     66\n",
       "git           55\n",
       "playx         43\n",
       "source        37\n",
       "startx        34\n",
       "which         33\n",
       "rip           31\n",
       "make          23\n",
       "xset          22\n",
       "conda         18\n",
       "pwd           17\n",
       "wget          11\n",
       "mkdir         11\n",
       "Name: command, dtype: int64"
      ]
     },
     "execution_count": 79,
     "metadata": {},
     "output_type": "execute_result"
    }
   ],
   "source": [
    "n = 20\n",
    "df['command'].value_counts()[:n]"
   ]
  },
  {
   "cell_type": "code",
   "execution_count": 80,
   "metadata": {},
   "outputs": [
    {
     "data": {
      "text/plain": [
       "<matplotlib.axes._subplots.AxesSubplot at 0x7fb0a06dc5f8>"
      ]
     },
     "execution_count": 80,
     "metadata": {},
     "output_type": "execute_result"
    },
    {
     "data": {
      "image/png": "[encoded data removed]",
      "text/plain": [
       "<Figure size 1080x720 with 1 Axes>"
      ]
     },
     "metadata": {
      "needs_background": "light"
     },
     "output_type": "display_data"
    }
   ],
   "source": [
    "# histogram plot -> bigger size\n",
    "df['command'].value_counts()[:n].plot(kind='bar')"
   ]
  },
  {
   "cell_type": "markdown",
   "metadata": {},
   "source": [
    "### least used commands"
   ]
  },
  {
   "cell_type": "code",
   "execution_count": 81,
   "metadata": {},
   "outputs": [],
   "source": [
    "n = 20"
   ]
  },
  {
   "cell_type": "code",
   "execution_count": 82,
   "metadata": {},
   "outputs": [
    {
     "data": {
      "text/plain": [
       "md5                      1\n",
       "locate                   1\n",
       "nvi                      1\n",
       "t                        1\n",
       "sensorrs                 1\n",
       "cat/proc/asound/cards    1\n",
       "libopencv-dev            1\n",
       "temperature.sh           1\n",
       "install                  1\n",
       "/etc/hos                 1\n",
       "ffmpeg                   1\n",
       "/usr/bin/redshift-gtk    1\n",
       "p                        1\n",
       "लस                       1\n",
       "sls                      1\n",
       "nstall                   1\n",
       "android-file-transfer    1\n",
       "apython                  1\n",
       "urxvt-tabbed             1\n",
       "fwupdmgr                 1\n",
       "Name: command, dtype: int64"
      ]
     },
     "execution_count": 82,
     "metadata": {},
     "output_type": "execute_result"
    }
   ],
   "source": [
    "n = 20\n",
    "df['command'].value_counts()[-n:]"
   ]
  },
  {
   "cell_type": "code",
   "execution_count": 83,
   "metadata": {},
   "outputs": [
    {
     "data": {
      "text/plain": [
       "<matplotlib.axes._subplots.AxesSubplot at 0x7fb0a0820400>"
      ]
     },
     "execution_count": 83,
     "metadata": {},
     "output_type": "execute_result"
    },
    {
     "data": {
      "image/png": "[encoded data removed]",
      "text/plain": [
       "<Figure size 1080x720 with 1 Axes>"
      ]
     },
     "metadata": {
      "needs_background": "light"
     },
     "output_type": "display_data"
    }
   ],
   "source": [
    "# histogram plot -> bigger size\n",
    "df['command'].value_counts()[-n:].plot(kind='bar')"
   ]
  },
  {
   "cell_type": "code",
   "execution_count": null,
   "metadata": {},
   "outputs": [],
   "source": []
  }
 ],
 "metadata": {
  "kernelspec": {
   "display_name": "Python 3",
   "language": "python",
   "name": "python3"
  },
  "language_info": {
   "codemirror_mode": {
    "name": "ipython",
    "version": 3
   },
   "file_extension": ".py",
   "mimetype": "text/x-python",
   "name": "python",
   "nbconvert_exporter": "python",
   "pygments_lexer": "ipython3",
   "version": "3.6.6"
  }
 },
 "nbformat": 4,
 "nbformat_minor": 2
}
